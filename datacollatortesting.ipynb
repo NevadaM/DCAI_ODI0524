{
  "nbformat": 4,
  "nbformat_minor": 0,
  "metadata": {
    "colab": {
      "provenance": [],
      "gpuType": "T4",
      "authorship_tag": "ABX9TyP3ATSK2rgmJgH2yQfuwpZh",
      "include_colab_link": true
    },
    "kernelspec": {
      "name": "python3",
      "display_name": "Python 3"
    },
    "language_info": {
      "name": "python"
    },
    "accelerator": "GPU",
    "widgets": {
      "application/vnd.jupyter.widget-state+json": {
        "e0962700dbbf4c8e808d5c9051014c6a": {
          "model_module": "@jupyter-widgets/controls",
          "model_name": "HBoxModel",
          "model_module_version": "1.5.0",
          "state": {
            "_dom_classes": [],
            "_model_module": "@jupyter-widgets/controls",
            "_model_module_version": "1.5.0",
            "_model_name": "HBoxModel",
            "_view_count": null,
            "_view_module": "@jupyter-widgets/controls",
            "_view_module_version": "1.5.0",
            "_view_name": "HBoxView",
            "box_style": "",
            "children": [
              "IPY_MODEL_3477bdb6f6a94b83a48bb1f2ce3aaa72",
              "IPY_MODEL_89a0ebc93b764a7a996af1cce4df1025",
              "IPY_MODEL_5ee0baf1f418467f9e3239119e2443b2"
            ],
            "layout": "IPY_MODEL_8a8e314dac5a4e84a044660110a9ef2f"
          }
        },
        "3477bdb6f6a94b83a48bb1f2ce3aaa72": {
          "model_module": "@jupyter-widgets/controls",
          "model_name": "HTMLModel",
          "model_module_version": "1.5.0",
          "state": {
            "_dom_classes": [],
            "_model_module": "@jupyter-widgets/controls",
            "_model_module_version": "1.5.0",
            "_model_name": "HTMLModel",
            "_view_count": null,
            "_view_module": "@jupyter-widgets/controls",
            "_view_module_version": "1.5.0",
            "_view_name": "HTMLView",
            "description": "",
            "description_tooltip": null,
            "layout": "IPY_MODEL_4d6d24c44fdd4f51bae5aa73b7231e8d",
            "placeholder": "​",
            "style": "IPY_MODEL_9f0b71035af54758bf57b66d6ff63330",
            "value": "tokenizer_config.json: 100%"
          }
        },
        "89a0ebc93b764a7a996af1cce4df1025": {
          "model_module": "@jupyter-widgets/controls",
          "model_name": "FloatProgressModel",
          "model_module_version": "1.5.0",
          "state": {
            "_dom_classes": [],
            "_model_module": "@jupyter-widgets/controls",
            "_model_module_version": "1.5.0",
            "_model_name": "FloatProgressModel",
            "_view_count": null,
            "_view_module": "@jupyter-widgets/controls",
            "_view_module_version": "1.5.0",
            "_view_name": "ProgressView",
            "bar_style": "success",
            "description": "",
            "description_tooltip": null,
            "layout": "IPY_MODEL_a4f78e9db6c34c53b4827702cb01cdc8",
            "max": 685,
            "min": 0,
            "orientation": "horizontal",
            "style": "IPY_MODEL_9314e7cde014464b900d749d215f2f6c",
            "value": 685
          }
        },
        "5ee0baf1f418467f9e3239119e2443b2": {
          "model_module": "@jupyter-widgets/controls",
          "model_name": "HTMLModel",
          "model_module_version": "1.5.0",
          "state": {
            "_dom_classes": [],
            "_model_module": "@jupyter-widgets/controls",
            "_model_module_version": "1.5.0",
            "_model_name": "HTMLModel",
            "_view_count": null,
            "_view_module": "@jupyter-widgets/controls",
            "_view_module_version": "1.5.0",
            "_view_name": "HTMLView",
            "description": "",
            "description_tooltip": null,
            "layout": "IPY_MODEL_a452ad95491d4f8ab3552b3c98c60492",
            "placeholder": "​",
            "style": "IPY_MODEL_a9138a587792489d93821560ada78093",
            "value": " 685/685 [00:00&lt;00:00, 7.75kB/s]"
          }
        },
        "8a8e314dac5a4e84a044660110a9ef2f": {
          "model_module": "@jupyter-widgets/base",
          "model_name": "LayoutModel",
          "model_module_version": "1.2.0",
          "state": {
            "_model_module": "@jupyter-widgets/base",
            "_model_module_version": "1.2.0",
            "_model_name": "LayoutModel",
            "_view_count": null,
            "_view_module": "@jupyter-widgets/base",
            "_view_module_version": "1.2.0",
            "_view_name": "LayoutView",
            "align_content": null,
            "align_items": null,
            "align_self": null,
            "border": null,
            "bottom": null,
            "display": null,
            "flex": null,
            "flex_flow": null,
            "grid_area": null,
            "grid_auto_columns": null,
            "grid_auto_flow": null,
            "grid_auto_rows": null,
            "grid_column": null,
            "grid_gap": null,
            "grid_row": null,
            "grid_template_areas": null,
            "grid_template_columns": null,
            "grid_template_rows": null,
            "height": null,
            "justify_content": null,
            "justify_items": null,
            "left": null,
            "margin": null,
            "max_height": null,
            "max_width": null,
            "min_height": null,
            "min_width": null,
            "object_fit": null,
            "object_position": null,
            "order": null,
            "overflow": null,
            "overflow_x": null,
            "overflow_y": null,
            "padding": null,
            "right": null,
            "top": null,
            "visibility": null,
            "width": null
          }
        },
        "4d6d24c44fdd4f51bae5aa73b7231e8d": {
          "model_module": "@jupyter-widgets/base",
          "model_name": "LayoutModel",
          "model_module_version": "1.2.0",
          "state": {
            "_model_module": "@jupyter-widgets/base",
            "_model_module_version": "1.2.0",
            "_model_name": "LayoutModel",
            "_view_count": null,
            "_view_module": "@jupyter-widgets/base",
            "_view_module_version": "1.2.0",
            "_view_name": "LayoutView",
            "align_content": null,
            "align_items": null,
            "align_self": null,
            "border": null,
            "bottom": null,
            "display": null,
            "flex": null,
            "flex_flow": null,
            "grid_area": null,
            "grid_auto_columns": null,
            "grid_auto_flow": null,
            "grid_auto_rows": null,
            "grid_column": null,
            "grid_gap": null,
            "grid_row": null,
            "grid_template_areas": null,
            "grid_template_columns": null,
            "grid_template_rows": null,
            "height": null,
            "justify_content": null,
            "justify_items": null,
            "left": null,
            "margin": null,
            "max_height": null,
            "max_width": null,
            "min_height": null,
            "min_width": null,
            "object_fit": null,
            "object_position": null,
            "order": null,
            "overflow": null,
            "overflow_x": null,
            "overflow_y": null,
            "padding": null,
            "right": null,
            "top": null,
            "visibility": null,
            "width": null
          }
        },
        "9f0b71035af54758bf57b66d6ff63330": {
          "model_module": "@jupyter-widgets/controls",
          "model_name": "DescriptionStyleModel",
          "model_module_version": "1.5.0",
          "state": {
            "_model_module": "@jupyter-widgets/controls",
            "_model_module_version": "1.5.0",
            "_model_name": "DescriptionStyleModel",
            "_view_count": null,
            "_view_module": "@jupyter-widgets/base",
            "_view_module_version": "1.2.0",
            "_view_name": "StyleView",
            "description_width": ""
          }
        },
        "a4f78e9db6c34c53b4827702cb01cdc8": {
          "model_module": "@jupyter-widgets/base",
          "model_name": "LayoutModel",
          "model_module_version": "1.2.0",
          "state": {
            "_model_module": "@jupyter-widgets/base",
            "_model_module_version": "1.2.0",
            "_model_name": "LayoutModel",
            "_view_count": null,
            "_view_module": "@jupyter-widgets/base",
            "_view_module_version": "1.2.0",
            "_view_name": "LayoutView",
            "align_content": null,
            "align_items": null,
            "align_self": null,
            "border": null,
            "bottom": null,
            "display": null,
            "flex": null,
            "flex_flow": null,
            "grid_area": null,
            "grid_auto_columns": null,
            "grid_auto_flow": null,
            "grid_auto_rows": null,
            "grid_column": null,
            "grid_gap": null,
            "grid_row": null,
            "grid_template_areas": null,
            "grid_template_columns": null,
            "grid_template_rows": null,
            "height": null,
            "justify_content": null,
            "justify_items": null,
            "left": null,
            "margin": null,
            "max_height": null,
            "max_width": null,
            "min_height": null,
            "min_width": null,
            "object_fit": null,
            "object_position": null,
            "order": null,
            "overflow": null,
            "overflow_x": null,
            "overflow_y": null,
            "padding": null,
            "right": null,
            "top": null,
            "visibility": null,
            "width": null
          }
        },
        "9314e7cde014464b900d749d215f2f6c": {
          "model_module": "@jupyter-widgets/controls",
          "model_name": "ProgressStyleModel",
          "model_module_version": "1.5.0",
          "state": {
            "_model_module": "@jupyter-widgets/controls",
            "_model_module_version": "1.5.0",
            "_model_name": "ProgressStyleModel",
            "_view_count": null,
            "_view_module": "@jupyter-widgets/base",
            "_view_module_version": "1.2.0",
            "_view_name": "StyleView",
            "bar_color": null,
            "description_width": ""
          }
        },
        "a452ad95491d4f8ab3552b3c98c60492": {
          "model_module": "@jupyter-widgets/base",
          "model_name": "LayoutModel",
          "model_module_version": "1.2.0",
          "state": {
            "_model_module": "@jupyter-widgets/base",
            "_model_module_version": "1.2.0",
            "_model_name": "LayoutModel",
            "_view_count": null,
            "_view_module": "@jupyter-widgets/base",
            "_view_module_version": "1.2.0",
            "_view_name": "LayoutView",
            "align_content": null,
            "align_items": null,
            "align_self": null,
            "border": null,
            "bottom": null,
            "display": null,
            "flex": null,
            "flex_flow": null,
            "grid_area": null,
            "grid_auto_columns": null,
            "grid_auto_flow": null,
            "grid_auto_rows": null,
            "grid_column": null,
            "grid_gap": null,
            "grid_row": null,
            "grid_template_areas": null,
            "grid_template_columns": null,
            "grid_template_rows": null,
            "height": null,
            "justify_content": null,
            "justify_items": null,
            "left": null,
            "margin": null,
            "max_height": null,
            "max_width": null,
            "min_height": null,
            "min_width": null,
            "object_fit": null,
            "object_position": null,
            "order": null,
            "overflow": null,
            "overflow_x": null,
            "overflow_y": null,
            "padding": null,
            "right": null,
            "top": null,
            "visibility": null,
            "width": null
          }
        },
        "a9138a587792489d93821560ada78093": {
          "model_module": "@jupyter-widgets/controls",
          "model_name": "DescriptionStyleModel",
          "model_module_version": "1.5.0",
          "state": {
            "_model_module": "@jupyter-widgets/controls",
            "_model_module_version": "1.5.0",
            "_model_name": "DescriptionStyleModel",
            "_view_count": null,
            "_view_module": "@jupyter-widgets/base",
            "_view_module_version": "1.2.0",
            "_view_name": "StyleView",
            "description_width": ""
          }
        },
        "c407d4e2541a40d4b4373b06a3bd3ae6": {
          "model_module": "@jupyter-widgets/controls",
          "model_name": "HBoxModel",
          "model_module_version": "1.5.0",
          "state": {
            "_dom_classes": [],
            "_model_module": "@jupyter-widgets/controls",
            "_model_module_version": "1.5.0",
            "_model_name": "HBoxModel",
            "_view_count": null,
            "_view_module": "@jupyter-widgets/controls",
            "_view_module_version": "1.5.0",
            "_view_name": "HBoxView",
            "box_style": "",
            "children": [
              "IPY_MODEL_0bb91a750d76422d979dba41dba899aa",
              "IPY_MODEL_3d21b7dd27ac40589b11b2e15bad8392",
              "IPY_MODEL_5cfd629e57eb4079b4c577a2e3a7b838"
            ],
            "layout": "IPY_MODEL_62a2756cc9874c7d91175065eabaffd5"
          }
        },
        "0bb91a750d76422d979dba41dba899aa": {
          "model_module": "@jupyter-widgets/controls",
          "model_name": "HTMLModel",
          "model_module_version": "1.5.0",
          "state": {
            "_dom_classes": [],
            "_model_module": "@jupyter-widgets/controls",
            "_model_module_version": "1.5.0",
            "_model_name": "HTMLModel",
            "_view_count": null,
            "_view_module": "@jupyter-widgets/controls",
            "_view_module_version": "1.5.0",
            "_view_name": "HTMLView",
            "description": "",
            "description_tooltip": null,
            "layout": "IPY_MODEL_d8ec4fb162ed477db42125c583b08f47",
            "placeholder": "​",
            "style": "IPY_MODEL_f37a098afb474121a0d362b69ccd75f4",
            "value": "config.json: 100%"
          }
        },
        "3d21b7dd27ac40589b11b2e15bad8392": {
          "model_module": "@jupyter-widgets/controls",
          "model_name": "FloatProgressModel",
          "model_module_version": "1.5.0",
          "state": {
            "_dom_classes": [],
            "_model_module": "@jupyter-widgets/controls",
            "_model_module_version": "1.5.0",
            "_model_name": "FloatProgressModel",
            "_view_count": null,
            "_view_module": "@jupyter-widgets/controls",
            "_view_module_version": "1.5.0",
            "_view_name": "ProgressView",
            "bar_style": "success",
            "description": "",
            "description_tooltip": null,
            "layout": "IPY_MODEL_ef0d1da0cca64835b58c2e9b7b38baa8",
            "max": 651,
            "min": 0,
            "orientation": "horizontal",
            "style": "IPY_MODEL_e1cfc1de4de844e0934a7a1ff8553a33",
            "value": 651
          }
        },
        "5cfd629e57eb4079b4c577a2e3a7b838": {
          "model_module": "@jupyter-widgets/controls",
          "model_name": "HTMLModel",
          "model_module_version": "1.5.0",
          "state": {
            "_dom_classes": [],
            "_model_module": "@jupyter-widgets/controls",
            "_model_module_version": "1.5.0",
            "_model_name": "HTMLModel",
            "_view_count": null,
            "_view_module": "@jupyter-widgets/controls",
            "_view_module_version": "1.5.0",
            "_view_name": "HTMLView",
            "description": "",
            "description_tooltip": null,
            "layout": "IPY_MODEL_680ad1842c71405282ea9c865e742232",
            "placeholder": "​",
            "style": "IPY_MODEL_67f6d050e8534853b51bbb9c74378478",
            "value": " 651/651 [00:00&lt;00:00, 19.1kB/s]"
          }
        },
        "62a2756cc9874c7d91175065eabaffd5": {
          "model_module": "@jupyter-widgets/base",
          "model_name": "LayoutModel",
          "model_module_version": "1.2.0",
          "state": {
            "_model_module": "@jupyter-widgets/base",
            "_model_module_version": "1.2.0",
            "_model_name": "LayoutModel",
            "_view_count": null,
            "_view_module": "@jupyter-widgets/base",
            "_view_module_version": "1.2.0",
            "_view_name": "LayoutView",
            "align_content": null,
            "align_items": null,
            "align_self": null,
            "border": null,
            "bottom": null,
            "display": null,
            "flex": null,
            "flex_flow": null,
            "grid_area": null,
            "grid_auto_columns": null,
            "grid_auto_flow": null,
            "grid_auto_rows": null,
            "grid_column": null,
            "grid_gap": null,
            "grid_row": null,
            "grid_template_areas": null,
            "grid_template_columns": null,
            "grid_template_rows": null,
            "height": null,
            "justify_content": null,
            "justify_items": null,
            "left": null,
            "margin": null,
            "max_height": null,
            "max_width": null,
            "min_height": null,
            "min_width": null,
            "object_fit": null,
            "object_position": null,
            "order": null,
            "overflow": null,
            "overflow_x": null,
            "overflow_y": null,
            "padding": null,
            "right": null,
            "top": null,
            "visibility": null,
            "width": null
          }
        },
        "d8ec4fb162ed477db42125c583b08f47": {
          "model_module": "@jupyter-widgets/base",
          "model_name": "LayoutModel",
          "model_module_version": "1.2.0",
          "state": {
            "_model_module": "@jupyter-widgets/base",
            "_model_module_version": "1.2.0",
            "_model_name": "LayoutModel",
            "_view_count": null,
            "_view_module": "@jupyter-widgets/base",
            "_view_module_version": "1.2.0",
            "_view_name": "LayoutView",
            "align_content": null,
            "align_items": null,
            "align_self": null,
            "border": null,
            "bottom": null,
            "display": null,
            "flex": null,
            "flex_flow": null,
            "grid_area": null,
            "grid_auto_columns": null,
            "grid_auto_flow": null,
            "grid_auto_rows": null,
            "grid_column": null,
            "grid_gap": null,
            "grid_row": null,
            "grid_template_areas": null,
            "grid_template_columns": null,
            "grid_template_rows": null,
            "height": null,
            "justify_content": null,
            "justify_items": null,
            "left": null,
            "margin": null,
            "max_height": null,
            "max_width": null,
            "min_height": null,
            "min_width": null,
            "object_fit": null,
            "object_position": null,
            "order": null,
            "overflow": null,
            "overflow_x": null,
            "overflow_y": null,
            "padding": null,
            "right": null,
            "top": null,
            "visibility": null,
            "width": null
          }
        },
        "f37a098afb474121a0d362b69ccd75f4": {
          "model_module": "@jupyter-widgets/controls",
          "model_name": "DescriptionStyleModel",
          "model_module_version": "1.5.0",
          "state": {
            "_model_module": "@jupyter-widgets/controls",
            "_model_module_version": "1.5.0",
            "_model_name": "DescriptionStyleModel",
            "_view_count": null,
            "_view_module": "@jupyter-widgets/base",
            "_view_module_version": "1.2.0",
            "_view_name": "StyleView",
            "description_width": ""
          }
        },
        "ef0d1da0cca64835b58c2e9b7b38baa8": {
          "model_module": "@jupyter-widgets/base",
          "model_name": "LayoutModel",
          "model_module_version": "1.2.0",
          "state": {
            "_model_module": "@jupyter-widgets/base",
            "_model_module_version": "1.2.0",
            "_model_name": "LayoutModel",
            "_view_count": null,
            "_view_module": "@jupyter-widgets/base",
            "_view_module_version": "1.2.0",
            "_view_name": "LayoutView",
            "align_content": null,
            "align_items": null,
            "align_self": null,
            "border": null,
            "bottom": null,
            "display": null,
            "flex": null,
            "flex_flow": null,
            "grid_area": null,
            "grid_auto_columns": null,
            "grid_auto_flow": null,
            "grid_auto_rows": null,
            "grid_column": null,
            "grid_gap": null,
            "grid_row": null,
            "grid_template_areas": null,
            "grid_template_columns": null,
            "grid_template_rows": null,
            "height": null,
            "justify_content": null,
            "justify_items": null,
            "left": null,
            "margin": null,
            "max_height": null,
            "max_width": null,
            "min_height": null,
            "min_width": null,
            "object_fit": null,
            "object_position": null,
            "order": null,
            "overflow": null,
            "overflow_x": null,
            "overflow_y": null,
            "padding": null,
            "right": null,
            "top": null,
            "visibility": null,
            "width": null
          }
        },
        "e1cfc1de4de844e0934a7a1ff8553a33": {
          "model_module": "@jupyter-widgets/controls",
          "model_name": "ProgressStyleModel",
          "model_module_version": "1.5.0",
          "state": {
            "_model_module": "@jupyter-widgets/controls",
            "_model_module_version": "1.5.0",
            "_model_name": "ProgressStyleModel",
            "_view_count": null,
            "_view_module": "@jupyter-widgets/base",
            "_view_module_version": "1.2.0",
            "_view_name": "StyleView",
            "bar_color": null,
            "description_width": ""
          }
        },
        "680ad1842c71405282ea9c865e742232": {
          "model_module": "@jupyter-widgets/base",
          "model_name": "LayoutModel",
          "model_module_version": "1.2.0",
          "state": {
            "_model_module": "@jupyter-widgets/base",
            "_model_module_version": "1.2.0",
            "_model_name": "LayoutModel",
            "_view_count": null,
            "_view_module": "@jupyter-widgets/base",
            "_view_module_version": "1.2.0",
            "_view_name": "LayoutView",
            "align_content": null,
            "align_items": null,
            "align_self": null,
            "border": null,
            "bottom": null,
            "display": null,
            "flex": null,
            "flex_flow": null,
            "grid_area": null,
            "grid_auto_columns": null,
            "grid_auto_flow": null,
            "grid_auto_rows": null,
            "grid_column": null,
            "grid_gap": null,
            "grid_row": null,
            "grid_template_areas": null,
            "grid_template_columns": null,
            "grid_template_rows": null,
            "height": null,
            "justify_content": null,
            "justify_items": null,
            "left": null,
            "margin": null,
            "max_height": null,
            "max_width": null,
            "min_height": null,
            "min_width": null,
            "object_fit": null,
            "object_position": null,
            "order": null,
            "overflow": null,
            "overflow_x": null,
            "overflow_y": null,
            "padding": null,
            "right": null,
            "top": null,
            "visibility": null,
            "width": null
          }
        },
        "67f6d050e8534853b51bbb9c74378478": {
          "model_module": "@jupyter-widgets/controls",
          "model_name": "DescriptionStyleModel",
          "model_module_version": "1.5.0",
          "state": {
            "_model_module": "@jupyter-widgets/controls",
            "_model_module_version": "1.5.0",
            "_model_name": "DescriptionStyleModel",
            "_view_count": null,
            "_view_module": "@jupyter-widgets/base",
            "_view_module_version": "1.2.0",
            "_view_name": "StyleView",
            "description_width": ""
          }
        },
        "7826de59a63c4c949b3f8cba88ef3a2c": {
          "model_module": "@jupyter-widgets/controls",
          "model_name": "HBoxModel",
          "model_module_version": "1.5.0",
          "state": {
            "_dom_classes": [],
            "_model_module": "@jupyter-widgets/controls",
            "_model_module_version": "1.5.0",
            "_model_name": "HBoxModel",
            "_view_count": null,
            "_view_module": "@jupyter-widgets/controls",
            "_view_module_version": "1.5.0",
            "_view_name": "HBoxView",
            "box_style": "",
            "children": [
              "IPY_MODEL_7540c331ea724ecdb52c83c567b5a750",
              "IPY_MODEL_053d9d4979d54169a12e61421c05f9db",
              "IPY_MODEL_4200085269704c89a2126d7177e0e567"
            ],
            "layout": "IPY_MODEL_44dee4eef683409ba2df30317ac70517"
          }
        },
        "7540c331ea724ecdb52c83c567b5a750": {
          "model_module": "@jupyter-widgets/controls",
          "model_name": "HTMLModel",
          "model_module_version": "1.5.0",
          "state": {
            "_dom_classes": [],
            "_model_module": "@jupyter-widgets/controls",
            "_model_module_version": "1.5.0",
            "_model_name": "HTMLModel",
            "_view_count": null,
            "_view_module": "@jupyter-widgets/controls",
            "_view_module_version": "1.5.0",
            "_view_name": "HTMLView",
            "description": "",
            "description_tooltip": null,
            "layout": "IPY_MODEL_c241f2aaf6464621bd428eb3748dba0d",
            "placeholder": "​",
            "style": "IPY_MODEL_aace574ed6c74bafa72054dee52e2ae7",
            "value": "vocab.json: 100%"
          }
        },
        "053d9d4979d54169a12e61421c05f9db": {
          "model_module": "@jupyter-widgets/controls",
          "model_name": "FloatProgressModel",
          "model_module_version": "1.5.0",
          "state": {
            "_dom_classes": [],
            "_model_module": "@jupyter-widgets/controls",
            "_model_module_version": "1.5.0",
            "_model_name": "FloatProgressModel",
            "_view_count": null,
            "_view_module": "@jupyter-widgets/controls",
            "_view_module_version": "1.5.0",
            "_view_name": "ProgressView",
            "bar_style": "success",
            "description": "",
            "description_tooltip": null,
            "layout": "IPY_MODEL_8430b7e2447c4d1b8147548f2557fa14",
            "max": 898822,
            "min": 0,
            "orientation": "horizontal",
            "style": "IPY_MODEL_41239e4a4ee44081bb4d86101c92cae8",
            "value": 898822
          }
        },
        "4200085269704c89a2126d7177e0e567": {
          "model_module": "@jupyter-widgets/controls",
          "model_name": "HTMLModel",
          "model_module_version": "1.5.0",
          "state": {
            "_dom_classes": [],
            "_model_module": "@jupyter-widgets/controls",
            "_model_module_version": "1.5.0",
            "_model_name": "HTMLModel",
            "_view_count": null,
            "_view_module": "@jupyter-widgets/controls",
            "_view_module_version": "1.5.0",
            "_view_name": "HTMLView",
            "description": "",
            "description_tooltip": null,
            "layout": "IPY_MODEL_7890f8445356408d8ba5277a59efcc82",
            "placeholder": "​",
            "style": "IPY_MODEL_9cdb090b0a25457cbf71d43bb18035ff",
            "value": " 899k/899k [00:00&lt;00:00, 7.79MB/s]"
          }
        },
        "44dee4eef683409ba2df30317ac70517": {
          "model_module": "@jupyter-widgets/base",
          "model_name": "LayoutModel",
          "model_module_version": "1.2.0",
          "state": {
            "_model_module": "@jupyter-widgets/base",
            "_model_module_version": "1.2.0",
            "_model_name": "LayoutModel",
            "_view_count": null,
            "_view_module": "@jupyter-widgets/base",
            "_view_module_version": "1.2.0",
            "_view_name": "LayoutView",
            "align_content": null,
            "align_items": null,
            "align_self": null,
            "border": null,
            "bottom": null,
            "display": null,
            "flex": null,
            "flex_flow": null,
            "grid_area": null,
            "grid_auto_columns": null,
            "grid_auto_flow": null,
            "grid_auto_rows": null,
            "grid_column": null,
            "grid_gap": null,
            "grid_row": null,
            "grid_template_areas": null,
            "grid_template_columns": null,
            "grid_template_rows": null,
            "height": null,
            "justify_content": null,
            "justify_items": null,
            "left": null,
            "margin": null,
            "max_height": null,
            "max_width": null,
            "min_height": null,
            "min_width": null,
            "object_fit": null,
            "object_position": null,
            "order": null,
            "overflow": null,
            "overflow_x": null,
            "overflow_y": null,
            "padding": null,
            "right": null,
            "top": null,
            "visibility": null,
            "width": null
          }
        },
        "c241f2aaf6464621bd428eb3748dba0d": {
          "model_module": "@jupyter-widgets/base",
          "model_name": "LayoutModel",
          "model_module_version": "1.2.0",
          "state": {
            "_model_module": "@jupyter-widgets/base",
            "_model_module_version": "1.2.0",
            "_model_name": "LayoutModel",
            "_view_count": null,
            "_view_module": "@jupyter-widgets/base",
            "_view_module_version": "1.2.0",
            "_view_name": "LayoutView",
            "align_content": null,
            "align_items": null,
            "align_self": null,
            "border": null,
            "bottom": null,
            "display": null,
            "flex": null,
            "flex_flow": null,
            "grid_area": null,
            "grid_auto_columns": null,
            "grid_auto_flow": null,
            "grid_auto_rows": null,
            "grid_column": null,
            "grid_gap": null,
            "grid_row": null,
            "grid_template_areas": null,
            "grid_template_columns": null,
            "grid_template_rows": null,
            "height": null,
            "justify_content": null,
            "justify_items": null,
            "left": null,
            "margin": null,
            "max_height": null,
            "max_width": null,
            "min_height": null,
            "min_width": null,
            "object_fit": null,
            "object_position": null,
            "order": null,
            "overflow": null,
            "overflow_x": null,
            "overflow_y": null,
            "padding": null,
            "right": null,
            "top": null,
            "visibility": null,
            "width": null
          }
        },
        "aace574ed6c74bafa72054dee52e2ae7": {
          "model_module": "@jupyter-widgets/controls",
          "model_name": "DescriptionStyleModel",
          "model_module_version": "1.5.0",
          "state": {
            "_model_module": "@jupyter-widgets/controls",
            "_model_module_version": "1.5.0",
            "_model_name": "DescriptionStyleModel",
            "_view_count": null,
            "_view_module": "@jupyter-widgets/base",
            "_view_module_version": "1.2.0",
            "_view_name": "StyleView",
            "description_width": ""
          }
        },
        "8430b7e2447c4d1b8147548f2557fa14": {
          "model_module": "@jupyter-widgets/base",
          "model_name": "LayoutModel",
          "model_module_version": "1.2.0",
          "state": {
            "_model_module": "@jupyter-widgets/base",
            "_model_module_version": "1.2.0",
            "_model_name": "LayoutModel",
            "_view_count": null,
            "_view_module": "@jupyter-widgets/base",
            "_view_module_version": "1.2.0",
            "_view_name": "LayoutView",
            "align_content": null,
            "align_items": null,
            "align_self": null,
            "border": null,
            "bottom": null,
            "display": null,
            "flex": null,
            "flex_flow": null,
            "grid_area": null,
            "grid_auto_columns": null,
            "grid_auto_flow": null,
            "grid_auto_rows": null,
            "grid_column": null,
            "grid_gap": null,
            "grid_row": null,
            "grid_template_areas": null,
            "grid_template_columns": null,
            "grid_template_rows": null,
            "height": null,
            "justify_content": null,
            "justify_items": null,
            "left": null,
            "margin": null,
            "max_height": null,
            "max_width": null,
            "min_height": null,
            "min_width": null,
            "object_fit": null,
            "object_position": null,
            "order": null,
            "overflow": null,
            "overflow_x": null,
            "overflow_y": null,
            "padding": null,
            "right": null,
            "top": null,
            "visibility": null,
            "width": null
          }
        },
        "41239e4a4ee44081bb4d86101c92cae8": {
          "model_module": "@jupyter-widgets/controls",
          "model_name": "ProgressStyleModel",
          "model_module_version": "1.5.0",
          "state": {
            "_model_module": "@jupyter-widgets/controls",
            "_model_module_version": "1.5.0",
            "_model_name": "ProgressStyleModel",
            "_view_count": null,
            "_view_module": "@jupyter-widgets/base",
            "_view_module_version": "1.2.0",
            "_view_name": "StyleView",
            "bar_color": null,
            "description_width": ""
          }
        },
        "7890f8445356408d8ba5277a59efcc82": {
          "model_module": "@jupyter-widgets/base",
          "model_name": "LayoutModel",
          "model_module_version": "1.2.0",
          "state": {
            "_model_module": "@jupyter-widgets/base",
            "_model_module_version": "1.2.0",
            "_model_name": "LayoutModel",
            "_view_count": null,
            "_view_module": "@jupyter-widgets/base",
            "_view_module_version": "1.2.0",
            "_view_name": "LayoutView",
            "align_content": null,
            "align_items": null,
            "align_self": null,
            "border": null,
            "bottom": null,
            "display": null,
            "flex": null,
            "flex_flow": null,
            "grid_area": null,
            "grid_auto_columns": null,
            "grid_auto_flow": null,
            "grid_auto_rows": null,
            "grid_column": null,
            "grid_gap": null,
            "grid_row": null,
            "grid_template_areas": null,
            "grid_template_columns": null,
            "grid_template_rows": null,
            "height": null,
            "justify_content": null,
            "justify_items": null,
            "left": null,
            "margin": null,
            "max_height": null,
            "max_width": null,
            "min_height": null,
            "min_width": null,
            "object_fit": null,
            "object_position": null,
            "order": null,
            "overflow": null,
            "overflow_x": null,
            "overflow_y": null,
            "padding": null,
            "right": null,
            "top": null,
            "visibility": null,
            "width": null
          }
        },
        "9cdb090b0a25457cbf71d43bb18035ff": {
          "model_module": "@jupyter-widgets/controls",
          "model_name": "DescriptionStyleModel",
          "model_module_version": "1.5.0",
          "state": {
            "_model_module": "@jupyter-widgets/controls",
            "_model_module_version": "1.5.0",
            "_model_name": "DescriptionStyleModel",
            "_view_count": null,
            "_view_module": "@jupyter-widgets/base",
            "_view_module_version": "1.2.0",
            "_view_name": "StyleView",
            "description_width": ""
          }
        },
        "2f0a97fd6a2749cbb0e169a144c19dc3": {
          "model_module": "@jupyter-widgets/controls",
          "model_name": "HBoxModel",
          "model_module_version": "1.5.0",
          "state": {
            "_dom_classes": [],
            "_model_module": "@jupyter-widgets/controls",
            "_model_module_version": "1.5.0",
            "_model_name": "HBoxModel",
            "_view_count": null,
            "_view_module": "@jupyter-widgets/controls",
            "_view_module_version": "1.5.0",
            "_view_name": "HBoxView",
            "box_style": "",
            "children": [
              "IPY_MODEL_677904770d3648a49a758b4a2bc6d7ac",
              "IPY_MODEL_03eb14b4bbaa4de5bf7488e9f1244a0e",
              "IPY_MODEL_e3227785d8df411fbbfc10b2b30d0d59"
            ],
            "layout": "IPY_MODEL_c4887651e73e4b18a8b12c66feb63970"
          }
        },
        "677904770d3648a49a758b4a2bc6d7ac": {
          "model_module": "@jupyter-widgets/controls",
          "model_name": "HTMLModel",
          "model_module_version": "1.5.0",
          "state": {
            "_dom_classes": [],
            "_model_module": "@jupyter-widgets/controls",
            "_model_module_version": "1.5.0",
            "_model_name": "HTMLModel",
            "_view_count": null,
            "_view_module": "@jupyter-widgets/controls",
            "_view_module_version": "1.5.0",
            "_view_name": "HTMLView",
            "description": "",
            "description_tooltip": null,
            "layout": "IPY_MODEL_a2a5b1dcc3c845b59954b8de6cc7f2f9",
            "placeholder": "​",
            "style": "IPY_MODEL_e73e91f387844199952150fe6d3a9354",
            "value": "merges.txt: 100%"
          }
        },
        "03eb14b4bbaa4de5bf7488e9f1244a0e": {
          "model_module": "@jupyter-widgets/controls",
          "model_name": "FloatProgressModel",
          "model_module_version": "1.5.0",
          "state": {
            "_dom_classes": [],
            "_model_module": "@jupyter-widgets/controls",
            "_model_module_version": "1.5.0",
            "_model_name": "FloatProgressModel",
            "_view_count": null,
            "_view_module": "@jupyter-widgets/controls",
            "_view_module_version": "1.5.0",
            "_view_name": "ProgressView",
            "bar_style": "success",
            "description": "",
            "description_tooltip": null,
            "layout": "IPY_MODEL_5db7616d0be6436688f87045714e36a0",
            "max": 456318,
            "min": 0,
            "orientation": "horizontal",
            "style": "IPY_MODEL_bebbab759932442da0656ff277a2c98e",
            "value": 456318
          }
        },
        "e3227785d8df411fbbfc10b2b30d0d59": {
          "model_module": "@jupyter-widgets/controls",
          "model_name": "HTMLModel",
          "model_module_version": "1.5.0",
          "state": {
            "_dom_classes": [],
            "_model_module": "@jupyter-widgets/controls",
            "_model_module_version": "1.5.0",
            "_model_name": "HTMLModel",
            "_view_count": null,
            "_view_module": "@jupyter-widgets/controls",
            "_view_module_version": "1.5.0",
            "_view_name": "HTMLView",
            "description": "",
            "description_tooltip": null,
            "layout": "IPY_MODEL_d077e2f6a084441fb9d5ff8e439c6d21",
            "placeholder": "​",
            "style": "IPY_MODEL_2bf7d31901ed45c283126301a3b5ef37",
            "value": " 456k/456k [00:00&lt;00:00, 2.23MB/s]"
          }
        },
        "c4887651e73e4b18a8b12c66feb63970": {
          "model_module": "@jupyter-widgets/base",
          "model_name": "LayoutModel",
          "model_module_version": "1.2.0",
          "state": {
            "_model_module": "@jupyter-widgets/base",
            "_model_module_version": "1.2.0",
            "_model_name": "LayoutModel",
            "_view_count": null,
            "_view_module": "@jupyter-widgets/base",
            "_view_module_version": "1.2.0",
            "_view_name": "LayoutView",
            "align_content": null,
            "align_items": null,
            "align_self": null,
            "border": null,
            "bottom": null,
            "display": null,
            "flex": null,
            "flex_flow": null,
            "grid_area": null,
            "grid_auto_columns": null,
            "grid_auto_flow": null,
            "grid_auto_rows": null,
            "grid_column": null,
            "grid_gap": null,
            "grid_row": null,
            "grid_template_areas": null,
            "grid_template_columns": null,
            "grid_template_rows": null,
            "height": null,
            "justify_content": null,
            "justify_items": null,
            "left": null,
            "margin": null,
            "max_height": null,
            "max_width": null,
            "min_height": null,
            "min_width": null,
            "object_fit": null,
            "object_position": null,
            "order": null,
            "overflow": null,
            "overflow_x": null,
            "overflow_y": null,
            "padding": null,
            "right": null,
            "top": null,
            "visibility": null,
            "width": null
          }
        },
        "a2a5b1dcc3c845b59954b8de6cc7f2f9": {
          "model_module": "@jupyter-widgets/base",
          "model_name": "LayoutModel",
          "model_module_version": "1.2.0",
          "state": {
            "_model_module": "@jupyter-widgets/base",
            "_model_module_version": "1.2.0",
            "_model_name": "LayoutModel",
            "_view_count": null,
            "_view_module": "@jupyter-widgets/base",
            "_view_module_version": "1.2.0",
            "_view_name": "LayoutView",
            "align_content": null,
            "align_items": null,
            "align_self": null,
            "border": null,
            "bottom": null,
            "display": null,
            "flex": null,
            "flex_flow": null,
            "grid_area": null,
            "grid_auto_columns": null,
            "grid_auto_flow": null,
            "grid_auto_rows": null,
            "grid_column": null,
            "grid_gap": null,
            "grid_row": null,
            "grid_template_areas": null,
            "grid_template_columns": null,
            "grid_template_rows": null,
            "height": null,
            "justify_content": null,
            "justify_items": null,
            "left": null,
            "margin": null,
            "max_height": null,
            "max_width": null,
            "min_height": null,
            "min_width": null,
            "object_fit": null,
            "object_position": null,
            "order": null,
            "overflow": null,
            "overflow_x": null,
            "overflow_y": null,
            "padding": null,
            "right": null,
            "top": null,
            "visibility": null,
            "width": null
          }
        },
        "e73e91f387844199952150fe6d3a9354": {
          "model_module": "@jupyter-widgets/controls",
          "model_name": "DescriptionStyleModel",
          "model_module_version": "1.5.0",
          "state": {
            "_model_module": "@jupyter-widgets/controls",
            "_model_module_version": "1.5.0",
            "_model_name": "DescriptionStyleModel",
            "_view_count": null,
            "_view_module": "@jupyter-widgets/base",
            "_view_module_version": "1.2.0",
            "_view_name": "StyleView",
            "description_width": ""
          }
        },
        "5db7616d0be6436688f87045714e36a0": {
          "model_module": "@jupyter-widgets/base",
          "model_name": "LayoutModel",
          "model_module_version": "1.2.0",
          "state": {
            "_model_module": "@jupyter-widgets/base",
            "_model_module_version": "1.2.0",
            "_model_name": "LayoutModel",
            "_view_count": null,
            "_view_module": "@jupyter-widgets/base",
            "_view_module_version": "1.2.0",
            "_view_name": "LayoutView",
            "align_content": null,
            "align_items": null,
            "align_self": null,
            "border": null,
            "bottom": null,
            "display": null,
            "flex": null,
            "flex_flow": null,
            "grid_area": null,
            "grid_auto_columns": null,
            "grid_auto_flow": null,
            "grid_auto_rows": null,
            "grid_column": null,
            "grid_gap": null,
            "grid_row": null,
            "grid_template_areas": null,
            "grid_template_columns": null,
            "grid_template_rows": null,
            "height": null,
            "justify_content": null,
            "justify_items": null,
            "left": null,
            "margin": null,
            "max_height": null,
            "max_width": null,
            "min_height": null,
            "min_width": null,
            "object_fit": null,
            "object_position": null,
            "order": null,
            "overflow": null,
            "overflow_x": null,
            "overflow_y": null,
            "padding": null,
            "right": null,
            "top": null,
            "visibility": null,
            "width": null
          }
        },
        "bebbab759932442da0656ff277a2c98e": {
          "model_module": "@jupyter-widgets/controls",
          "model_name": "ProgressStyleModel",
          "model_module_version": "1.5.0",
          "state": {
            "_model_module": "@jupyter-widgets/controls",
            "_model_module_version": "1.5.0",
            "_model_name": "ProgressStyleModel",
            "_view_count": null,
            "_view_module": "@jupyter-widgets/base",
            "_view_module_version": "1.2.0",
            "_view_name": "StyleView",
            "bar_color": null,
            "description_width": ""
          }
        },
        "d077e2f6a084441fb9d5ff8e439c6d21": {
          "model_module": "@jupyter-widgets/base",
          "model_name": "LayoutModel",
          "model_module_version": "1.2.0",
          "state": {
            "_model_module": "@jupyter-widgets/base",
            "_model_module_version": "1.2.0",
            "_model_name": "LayoutModel",
            "_view_count": null,
            "_view_module": "@jupyter-widgets/base",
            "_view_module_version": "1.2.0",
            "_view_name": "LayoutView",
            "align_content": null,
            "align_items": null,
            "align_self": null,
            "border": null,
            "bottom": null,
            "display": null,
            "flex": null,
            "flex_flow": null,
            "grid_area": null,
            "grid_auto_columns": null,
            "grid_auto_flow": null,
            "grid_auto_rows": null,
            "grid_column": null,
            "grid_gap": null,
            "grid_row": null,
            "grid_template_areas": null,
            "grid_template_columns": null,
            "grid_template_rows": null,
            "height": null,
            "justify_content": null,
            "justify_items": null,
            "left": null,
            "margin": null,
            "max_height": null,
            "max_width": null,
            "min_height": null,
            "min_width": null,
            "object_fit": null,
            "object_position": null,
            "order": null,
            "overflow": null,
            "overflow_x": null,
            "overflow_y": null,
            "padding": null,
            "right": null,
            "top": null,
            "visibility": null,
            "width": null
          }
        },
        "2bf7d31901ed45c283126301a3b5ef37": {
          "model_module": "@jupyter-widgets/controls",
          "model_name": "DescriptionStyleModel",
          "model_module_version": "1.5.0",
          "state": {
            "_model_module": "@jupyter-widgets/controls",
            "_model_module_version": "1.5.0",
            "_model_name": "DescriptionStyleModel",
            "_view_count": null,
            "_view_module": "@jupyter-widgets/base",
            "_view_module_version": "1.2.0",
            "_view_name": "StyleView",
            "description_width": ""
          }
        },
        "13513d9df7fb41bea66606bbb8523803": {
          "model_module": "@jupyter-widgets/controls",
          "model_name": "HBoxModel",
          "model_module_version": "1.5.0",
          "state": {
            "_dom_classes": [],
            "_model_module": "@jupyter-widgets/controls",
            "_model_module_version": "1.5.0",
            "_model_name": "HBoxModel",
            "_view_count": null,
            "_view_module": "@jupyter-widgets/controls",
            "_view_module_version": "1.5.0",
            "_view_name": "HBoxView",
            "box_style": "",
            "children": [
              "IPY_MODEL_1030fa74695447a3a175acff5e84bdbf",
              "IPY_MODEL_20cf031af9e84c769ac2fe33a674468f",
              "IPY_MODEL_6379f301d9e843a8b2d6e108f218d86b"
            ],
            "layout": "IPY_MODEL_9dff2194613a49118f04bfbfe95be503"
          }
        },
        "1030fa74695447a3a175acff5e84bdbf": {
          "model_module": "@jupyter-widgets/controls",
          "model_name": "HTMLModel",
          "model_module_version": "1.5.0",
          "state": {
            "_dom_classes": [],
            "_model_module": "@jupyter-widgets/controls",
            "_model_module_version": "1.5.0",
            "_model_name": "HTMLModel",
            "_view_count": null,
            "_view_module": "@jupyter-widgets/controls",
            "_view_module_version": "1.5.0",
            "_view_name": "HTMLView",
            "description": "",
            "description_tooltip": null,
            "layout": "IPY_MODEL_0e9c79c18c74467bbc2a68ea4fff1b61",
            "placeholder": "​",
            "style": "IPY_MODEL_f87b1b48b7f7408c89fdc4bf3730d2a1",
            "value": "special_tokens_map.json: 100%"
          }
        },
        "20cf031af9e84c769ac2fe33a674468f": {
          "model_module": "@jupyter-widgets/controls",
          "model_name": "FloatProgressModel",
          "model_module_version": "1.5.0",
          "state": {
            "_dom_classes": [],
            "_model_module": "@jupyter-widgets/controls",
            "_model_module_version": "1.5.0",
            "_model_name": "FloatProgressModel",
            "_view_count": null,
            "_view_module": "@jupyter-widgets/controls",
            "_view_module_version": "1.5.0",
            "_view_name": "ProgressView",
            "bar_style": "success",
            "description": "",
            "description_tooltip": null,
            "layout": "IPY_MODEL_82ce6abcadd140e58eaf40e49aa2be46",
            "max": 441,
            "min": 0,
            "orientation": "horizontal",
            "style": "IPY_MODEL_dbf2978b4954409eb3720a43bae26ec3",
            "value": 441
          }
        },
        "6379f301d9e843a8b2d6e108f218d86b": {
          "model_module": "@jupyter-widgets/controls",
          "model_name": "HTMLModel",
          "model_module_version": "1.5.0",
          "state": {
            "_dom_classes": [],
            "_model_module": "@jupyter-widgets/controls",
            "_model_module_version": "1.5.0",
            "_model_name": "HTMLModel",
            "_view_count": null,
            "_view_module": "@jupyter-widgets/controls",
            "_view_module_version": "1.5.0",
            "_view_name": "HTMLView",
            "description": "",
            "description_tooltip": null,
            "layout": "IPY_MODEL_672b4be7552e4bdbb62276bba77fd2a7",
            "placeholder": "​",
            "style": "IPY_MODEL_a9b2b6ac707e4823b326ba378bd9f2cb",
            "value": " 441/441 [00:00&lt;00:00, 12.5kB/s]"
          }
        },
        "9dff2194613a49118f04bfbfe95be503": {
          "model_module": "@jupyter-widgets/base",
          "model_name": "LayoutModel",
          "model_module_version": "1.2.0",
          "state": {
            "_model_module": "@jupyter-widgets/base",
            "_model_module_version": "1.2.0",
            "_model_name": "LayoutModel",
            "_view_count": null,
            "_view_module": "@jupyter-widgets/base",
            "_view_module_version": "1.2.0",
            "_view_name": "LayoutView",
            "align_content": null,
            "align_items": null,
            "align_self": null,
            "border": null,
            "bottom": null,
            "display": null,
            "flex": null,
            "flex_flow": null,
            "grid_area": null,
            "grid_auto_columns": null,
            "grid_auto_flow": null,
            "grid_auto_rows": null,
            "grid_column": null,
            "grid_gap": null,
            "grid_row": null,
            "grid_template_areas": null,
            "grid_template_columns": null,
            "grid_template_rows": null,
            "height": null,
            "justify_content": null,
            "justify_items": null,
            "left": null,
            "margin": null,
            "max_height": null,
            "max_width": null,
            "min_height": null,
            "min_width": null,
            "object_fit": null,
            "object_position": null,
            "order": null,
            "overflow": null,
            "overflow_x": null,
            "overflow_y": null,
            "padding": null,
            "right": null,
            "top": null,
            "visibility": null,
            "width": null
          }
        },
        "0e9c79c18c74467bbc2a68ea4fff1b61": {
          "model_module": "@jupyter-widgets/base",
          "model_name": "LayoutModel",
          "model_module_version": "1.2.0",
          "state": {
            "_model_module": "@jupyter-widgets/base",
            "_model_module_version": "1.2.0",
            "_model_name": "LayoutModel",
            "_view_count": null,
            "_view_module": "@jupyter-widgets/base",
            "_view_module_version": "1.2.0",
            "_view_name": "LayoutView",
            "align_content": null,
            "align_items": null,
            "align_self": null,
            "border": null,
            "bottom": null,
            "display": null,
            "flex": null,
            "flex_flow": null,
            "grid_area": null,
            "grid_auto_columns": null,
            "grid_auto_flow": null,
            "grid_auto_rows": null,
            "grid_column": null,
            "grid_gap": null,
            "grid_row": null,
            "grid_template_areas": null,
            "grid_template_columns": null,
            "grid_template_rows": null,
            "height": null,
            "justify_content": null,
            "justify_items": null,
            "left": null,
            "margin": null,
            "max_height": null,
            "max_width": null,
            "min_height": null,
            "min_width": null,
            "object_fit": null,
            "object_position": null,
            "order": null,
            "overflow": null,
            "overflow_x": null,
            "overflow_y": null,
            "padding": null,
            "right": null,
            "top": null,
            "visibility": null,
            "width": null
          }
        },
        "f87b1b48b7f7408c89fdc4bf3730d2a1": {
          "model_module": "@jupyter-widgets/controls",
          "model_name": "DescriptionStyleModel",
          "model_module_version": "1.5.0",
          "state": {
            "_model_module": "@jupyter-widgets/controls",
            "_model_module_version": "1.5.0",
            "_model_name": "DescriptionStyleModel",
            "_view_count": null,
            "_view_module": "@jupyter-widgets/base",
            "_view_module_version": "1.2.0",
            "_view_name": "StyleView",
            "description_width": ""
          }
        },
        "82ce6abcadd140e58eaf40e49aa2be46": {
          "model_module": "@jupyter-widgets/base",
          "model_name": "LayoutModel",
          "model_module_version": "1.2.0",
          "state": {
            "_model_module": "@jupyter-widgets/base",
            "_model_module_version": "1.2.0",
            "_model_name": "LayoutModel",
            "_view_count": null,
            "_view_module": "@jupyter-widgets/base",
            "_view_module_version": "1.2.0",
            "_view_name": "LayoutView",
            "align_content": null,
            "align_items": null,
            "align_self": null,
            "border": null,
            "bottom": null,
            "display": null,
            "flex": null,
            "flex_flow": null,
            "grid_area": null,
            "grid_auto_columns": null,
            "grid_auto_flow": null,
            "grid_auto_rows": null,
            "grid_column": null,
            "grid_gap": null,
            "grid_row": null,
            "grid_template_areas": null,
            "grid_template_columns": null,
            "grid_template_rows": null,
            "height": null,
            "justify_content": null,
            "justify_items": null,
            "left": null,
            "margin": null,
            "max_height": null,
            "max_width": null,
            "min_height": null,
            "min_width": null,
            "object_fit": null,
            "object_position": null,
            "order": null,
            "overflow": null,
            "overflow_x": null,
            "overflow_y": null,
            "padding": null,
            "right": null,
            "top": null,
            "visibility": null,
            "width": null
          }
        },
        "dbf2978b4954409eb3720a43bae26ec3": {
          "model_module": "@jupyter-widgets/controls",
          "model_name": "ProgressStyleModel",
          "model_module_version": "1.5.0",
          "state": {
            "_model_module": "@jupyter-widgets/controls",
            "_model_module_version": "1.5.0",
            "_model_name": "ProgressStyleModel",
            "_view_count": null,
            "_view_module": "@jupyter-widgets/base",
            "_view_module_version": "1.2.0",
            "_view_name": "StyleView",
            "bar_color": null,
            "description_width": ""
          }
        },
        "672b4be7552e4bdbb62276bba77fd2a7": {
          "model_module": "@jupyter-widgets/base",
          "model_name": "LayoutModel",
          "model_module_version": "1.2.0",
          "state": {
            "_model_module": "@jupyter-widgets/base",
            "_model_module_version": "1.2.0",
            "_model_name": "LayoutModel",
            "_view_count": null,
            "_view_module": "@jupyter-widgets/base",
            "_view_module_version": "1.2.0",
            "_view_name": "LayoutView",
            "align_content": null,
            "align_items": null,
            "align_self": null,
            "border": null,
            "bottom": null,
            "display": null,
            "flex": null,
            "flex_flow": null,
            "grid_area": null,
            "grid_auto_columns": null,
            "grid_auto_flow": null,
            "grid_auto_rows": null,
            "grid_column": null,
            "grid_gap": null,
            "grid_row": null,
            "grid_template_areas": null,
            "grid_template_columns": null,
            "grid_template_rows": null,
            "height": null,
            "justify_content": null,
            "justify_items": null,
            "left": null,
            "margin": null,
            "max_height": null,
            "max_width": null,
            "min_height": null,
            "min_width": null,
            "object_fit": null,
            "object_position": null,
            "order": null,
            "overflow": null,
            "overflow_x": null,
            "overflow_y": null,
            "padding": null,
            "right": null,
            "top": null,
            "visibility": null,
            "width": null
          }
        },
        "a9b2b6ac707e4823b326ba378bd9f2cb": {
          "model_module": "@jupyter-widgets/controls",
          "model_name": "DescriptionStyleModel",
          "model_module_version": "1.5.0",
          "state": {
            "_model_module": "@jupyter-widgets/controls",
            "_model_module_version": "1.5.0",
            "_model_name": "DescriptionStyleModel",
            "_view_count": null,
            "_view_module": "@jupyter-widgets/base",
            "_view_module_version": "1.2.0",
            "_view_name": "StyleView",
            "description_width": ""
          }
        }
      }
    }
  },
  "cells": [
    {
      "cell_type": "markdown",
      "metadata": {
        "id": "view-in-github",
        "colab_type": "text"
      },
      "source": [
        "<a href=\"https://colab.research.google.com/github/NevadaM/DCAI_ODI0524/blob/main/datacollatortesting.ipynb\" target=\"_parent\"><img src=\"https://colab.research.google.com/assets/colab-badge.svg\" alt=\"Open In Colab\"/></a>"
      ]
    },
    {
      "cell_type": "code",
      "execution_count": 1,
      "metadata": {
        "colab": {
          "base_uri": "https://localhost:8080/"
        },
        "id": "l-uZntXq_M6s",
        "outputId": "5fcb8580-76a1-4272-8f59-958546b086a7"
      },
      "outputs": [
        {
          "output_type": "stream",
          "name": "stdout",
          "text": [
            "\u001b[2K     \u001b[90m━━━━━━━━━━━━━━━━━━━━━━━━━━━━━━━━━━━━━━━━\u001b[0m \u001b[32m547.8/547.8 kB\u001b[0m \u001b[31m3.9 MB/s\u001b[0m eta \u001b[36m0:00:00\u001b[0m\n",
            "\u001b[2K     \u001b[90m━━━━━━━━━━━━━━━━━━━━━━━━━━━━━━━━━━━━━━━━\u001b[0m \u001b[32m40.8/40.8 MB\u001b[0m \u001b[31m10.8 MB/s\u001b[0m eta \u001b[36m0:00:00\u001b[0m\n",
            "\u001b[2K     \u001b[90m━━━━━━━━━━━━━━━━━━━━━━━━━━━━━━━━━━━━━━━━\u001b[0m \u001b[32m116.3/116.3 kB\u001b[0m \u001b[31m4.4 MB/s\u001b[0m eta \u001b[36m0:00:00\u001b[0m\n",
            "\u001b[2K     \u001b[90m━━━━━━━━━━━━━━━━━━━━━━━━━━━━━━━━━━━━━━━━\u001b[0m \u001b[32m64.9/64.9 kB\u001b[0m \u001b[31m3.3 MB/s\u001b[0m eta \u001b[36m0:00:00\u001b[0m\n",
            "\u001b[2K     \u001b[90m━━━━━━━━━━━━━━━━━━━━━━━━━━━━━━━━━━━━━━━━\u001b[0m \u001b[32m194.1/194.1 kB\u001b[0m \u001b[31m5.7 MB/s\u001b[0m eta \u001b[36m0:00:00\u001b[0m\n",
            "\u001b[2K     \u001b[90m━━━━━━━━━━━━━━━━━━━━━━━━━━━━━━━━━━━━━━━━\u001b[0m \u001b[32m134.8/134.8 kB\u001b[0m \u001b[31m3.1 MB/s\u001b[0m eta \u001b[36m0:00:00\u001b[0m\n",
            "\u001b[?25h\u001b[31mERROR: pip's dependency resolver does not currently take into account all the packages that are installed. This behaviour is the source of the following dependency conflicts.\n",
            "cudf-cu12 24.4.1 requires pyarrow<15.0.0a0,>=14.0.1, but you have pyarrow 16.1.0 which is incompatible.\n",
            "google-colab 1.0.0 requires requests==2.31.0, but you have requests 2.32.3 which is incompatible.\n",
            "ibis-framework 8.0.0 requires pyarrow<16,>=2, but you have pyarrow 16.1.0 which is incompatible.\u001b[0m\u001b[31m\n",
            "\u001b[2K     \u001b[90m━━━━━━━━━━━━━━━━━━━━━━━━━━━━━━━━━━━━━━━━\u001b[0m \u001b[32m38.0/38.0 MB\u001b[0m \u001b[31m18.2 MB/s\u001b[0m eta \u001b[36m0:00:00\u001b[0m\n",
            "\u001b[2K     \u001b[90m━━━━━━━━━━━━━━━━━━━━━━━━━━━━━━━━━━━━━━━━\u001b[0m \u001b[32m19.3/19.3 MB\u001b[0m \u001b[31m54.4 MB/s\u001b[0m eta \u001b[36m0:00:00\u001b[0m\n",
            "\u001b[?25h\u001b[31mERROR: pip's dependency resolver does not currently take into account all the packages that are installed. This behaviour is the source of the following dependency conflicts.\n",
            "astropy 5.3.4 requires numpy<2,>=1.21, but you have numpy 2.0.0 which is incompatible.\n",
            "cudf-cu12 24.4.1 requires numpy<2.0a0,>=1.23, but you have numpy 2.0.0 which is incompatible.\n",
            "cupy-cuda12x 12.2.0 requires numpy<1.27,>=1.20, but you have numpy 2.0.0 which is incompatible.\n",
            "datasets 2.20.0 requires pyarrow>=15.0.0, but you have pyarrow 14.0.2 which is incompatible.\n",
            "ibis-framework 8.0.0 requires numpy<2,>=1, but you have numpy 2.0.0 which is incompatible.\n",
            "numba 0.58.1 requires numpy<1.27,>=1.22, but you have numpy 2.0.0 which is incompatible.\n",
            "rmm-cu12 24.4.0 requires numpy<2.0a0,>=1.23, but you have numpy 2.0.0 which is incompatible.\n",
            "scipy 1.11.4 requires numpy<1.28.0,>=1.21.6, but you have numpy 2.0.0 which is incompatible.\n",
            "tensorflow 2.15.0 requires numpy<2.0.0,>=1.23.5, but you have numpy 2.0.0 which is incompatible.\n",
            "thinc 8.2.5 requires numpy<2.0.0,>=1.19.0; python_version >= \"3.9\", but you have numpy 2.0.0 which is incompatible.\u001b[0m\u001b[31m\n",
            "\u001b[0m"
          ]
        }
      ],
      "source": [
        "!pip install -q datasets transformers huggingface-hub\n",
        "!pip install -q --force-reinstall 'pyarrow<15.0.0a0,>=14.0.1'"
      ]
    },
    {
      "cell_type": "code",
      "source": [
        "import tensorflow as tf\n",
        "import numpy as np\n",
        "from transformers import AutoTokenizer, TFAutoModelForCausalLM, DataCollatorForLanguageModeling\n",
        "from datasets import load_dataset\n"
      ],
      "metadata": {
        "id": "OpdamCKb_RyM"
      },
      "execution_count": 3,
      "outputs": []
    },
    {
      "cell_type": "code",
      "source": [
        "model_name = \"facebook/opt-125m\"\n",
        "tokenizer = AutoTokenizer.from_pretrained(model_name)\n",
        "# model = TFAutoModelForCausalLM.from_pretrained(model_name)"
      ],
      "metadata": {
        "colab": {
          "base_uri": "https://localhost:8080/",
          "height": 336,
          "referenced_widgets": [
            "e0962700dbbf4c8e808d5c9051014c6a",
            "3477bdb6f6a94b83a48bb1f2ce3aaa72",
            "89a0ebc93b764a7a996af1cce4df1025",
            "5ee0baf1f418467f9e3239119e2443b2",
            "8a8e314dac5a4e84a044660110a9ef2f",
            "4d6d24c44fdd4f51bae5aa73b7231e8d",
            "9f0b71035af54758bf57b66d6ff63330",
            "a4f78e9db6c34c53b4827702cb01cdc8",
            "9314e7cde014464b900d749d215f2f6c",
            "a452ad95491d4f8ab3552b3c98c60492",
            "a9138a587792489d93821560ada78093",
            "c407d4e2541a40d4b4373b06a3bd3ae6",
            "0bb91a750d76422d979dba41dba899aa",
            "3d21b7dd27ac40589b11b2e15bad8392",
            "5cfd629e57eb4079b4c577a2e3a7b838",
            "62a2756cc9874c7d91175065eabaffd5",
            "d8ec4fb162ed477db42125c583b08f47",
            "f37a098afb474121a0d362b69ccd75f4",
            "ef0d1da0cca64835b58c2e9b7b38baa8",
            "e1cfc1de4de844e0934a7a1ff8553a33",
            "680ad1842c71405282ea9c865e742232",
            "67f6d050e8534853b51bbb9c74378478",
            "7826de59a63c4c949b3f8cba88ef3a2c",
            "7540c331ea724ecdb52c83c567b5a750",
            "053d9d4979d54169a12e61421c05f9db",
            "4200085269704c89a2126d7177e0e567",
            "44dee4eef683409ba2df30317ac70517",
            "c241f2aaf6464621bd428eb3748dba0d",
            "aace574ed6c74bafa72054dee52e2ae7",
            "8430b7e2447c4d1b8147548f2557fa14",
            "41239e4a4ee44081bb4d86101c92cae8",
            "7890f8445356408d8ba5277a59efcc82",
            "9cdb090b0a25457cbf71d43bb18035ff",
            "2f0a97fd6a2749cbb0e169a144c19dc3",
            "677904770d3648a49a758b4a2bc6d7ac",
            "03eb14b4bbaa4de5bf7488e9f1244a0e",
            "e3227785d8df411fbbfc10b2b30d0d59",
            "c4887651e73e4b18a8b12c66feb63970",
            "a2a5b1dcc3c845b59954b8de6cc7f2f9",
            "e73e91f387844199952150fe6d3a9354",
            "5db7616d0be6436688f87045714e36a0",
            "bebbab759932442da0656ff277a2c98e",
            "d077e2f6a084441fb9d5ff8e439c6d21",
            "2bf7d31901ed45c283126301a3b5ef37",
            "13513d9df7fb41bea66606bbb8523803",
            "1030fa74695447a3a175acff5e84bdbf",
            "20cf031af9e84c769ac2fe33a674468f",
            "6379f301d9e843a8b2d6e108f218d86b",
            "9dff2194613a49118f04bfbfe95be503",
            "0e9c79c18c74467bbc2a68ea4fff1b61",
            "f87b1b48b7f7408c89fdc4bf3730d2a1",
            "82ce6abcadd140e58eaf40e49aa2be46",
            "dbf2978b4954409eb3720a43bae26ec3",
            "672b4be7552e4bdbb62276bba77fd2a7",
            "a9b2b6ac707e4823b326ba378bd9f2cb"
          ]
        },
        "id": "039dPDrD_bkS",
        "outputId": "aa7eb0e8-c0b8-44e1-f72d-632cd79d1539"
      },
      "execution_count": 4,
      "outputs": [
        {
          "output_type": "stream",
          "name": "stderr",
          "text": [
            "/usr/local/lib/python3.10/dist-packages/huggingface_hub/utils/_token.py:89: UserWarning: \n",
            "The secret `HF_TOKEN` does not exist in your Colab secrets.\n",
            "To authenticate with the Hugging Face Hub, create a token in your settings tab (https://huggingface.co/settings/tokens), set it as secret in your Google Colab and restart your session.\n",
            "You will be able to reuse this secret in all of your notebooks.\n",
            "Please note that authentication is recommended but still optional to access public models or datasets.\n",
            "  warnings.warn(\n"
          ]
        },
        {
          "output_type": "display_data",
          "data": {
            "text/plain": [
              "tokenizer_config.json:   0%|          | 0.00/685 [00:00<?, ?B/s]"
            ],
            "application/vnd.jupyter.widget-view+json": {
              "version_major": 2,
              "version_minor": 0,
              "model_id": "e0962700dbbf4c8e808d5c9051014c6a"
            }
          },
          "metadata": {}
        },
        {
          "output_type": "stream",
          "name": "stderr",
          "text": [
            "/usr/local/lib/python3.10/dist-packages/huggingface_hub/file_download.py:1132: FutureWarning: `resume_download` is deprecated and will be removed in version 1.0.0. Downloads always resume when possible. If you want to force a new download, use `force_download=True`.\n",
            "  warnings.warn(\n"
          ]
        },
        {
          "output_type": "display_data",
          "data": {
            "text/plain": [
              "config.json:   0%|          | 0.00/651 [00:00<?, ?B/s]"
            ],
            "application/vnd.jupyter.widget-view+json": {
              "version_major": 2,
              "version_minor": 0,
              "model_id": "c407d4e2541a40d4b4373b06a3bd3ae6"
            }
          },
          "metadata": {}
        },
        {
          "output_type": "display_data",
          "data": {
            "text/plain": [
              "vocab.json:   0%|          | 0.00/899k [00:00<?, ?B/s]"
            ],
            "application/vnd.jupyter.widget-view+json": {
              "version_major": 2,
              "version_minor": 0,
              "model_id": "7826de59a63c4c949b3f8cba88ef3a2c"
            }
          },
          "metadata": {}
        },
        {
          "output_type": "display_data",
          "data": {
            "text/plain": [
              "merges.txt:   0%|          | 0.00/456k [00:00<?, ?B/s]"
            ],
            "application/vnd.jupyter.widget-view+json": {
              "version_major": 2,
              "version_minor": 0,
              "model_id": "2f0a97fd6a2749cbb0e169a144c19dc3"
            }
          },
          "metadata": {}
        },
        {
          "output_type": "display_data",
          "data": {
            "text/plain": [
              "special_tokens_map.json:   0%|          | 0.00/441 [00:00<?, ?B/s]"
            ],
            "application/vnd.jupyter.widget-view+json": {
              "version_major": 2,
              "version_minor": 0,
              "model_id": "13513d9df7fb41bea66606bbb8523803"
            }
          },
          "metadata": {}
        }
      ]
    },
    {
      "cell_type": "code",
      "source": [
        "text_string = \"Anarchism is a political philosophy and movement that is skeptical of all justifications for authority and seeks to abolish the institutions it claims maintain unnecessary coercion and hierarchy, typically including nation-states, and capitalism. Anarchism advocates for the replacement of the state with stateless societies and voluntary free associations. As a historically left-wing movement, this reading of anarchism is placed on the farthest left of the political spectrum, usually described as the libertarian wing of the socialist movement (libertarian socialism). Humans have lived in societies without formal hierarchies long before the establishment of states, realms, or empires. With the rise of organised hierarchical bodies, scepticism toward authority also rose. Although traces of anarchist ideas are found all throughout history, modern anarchism emerged from the Enlightenment. During the latter half of the 19th and the first decades of the 20th century, the anarchist movement flourished in most parts of the world and had a significant role in workers' struggles for emancipation. Various anarchist schools of thought formed during this period. Anarchists have taken part in several revolutions, most notably in the Paris Commune, the Russian Civil War and the Spanish Civil War, whose end marked the end of the classical era of anarchism.\"\n",
        "len(text_string)"
      ],
      "metadata": {
        "colab": {
          "base_uri": "https://localhost:8080/"
        },
        "id": "F9Gh6J3hP6K7",
        "outputId": "8074cf65-d5c5-4bf2-a51a-06fd65744ba3"
      },
      "execution_count": 5,
      "outputs": [
        {
          "output_type": "execute_result",
          "data": {
            "text/plain": [
              "1361"
            ]
          },
          "metadata": {},
          "execution_count": 5
        }
      ]
    },
    {
      "cell_type": "code",
      "source": [
        "text_tokenized = tokenizer.encode(text_string, return_tensors=\"np\")"
      ],
      "metadata": {
        "id": "gkjrpq_FQZAT"
      },
      "execution_count": 6,
      "outputs": []
    },
    {
      "cell_type": "code",
      "source": [
        "from collections import deque"
      ],
      "metadata": {
        "id": "XuPZszCHQiBh"
      },
      "execution_count": 7,
      "outputs": []
    },
    {
      "cell_type": "code",
      "source": [
        "def chunk(arr, feature_len=16, padding_token=1, return_tf_datasets=False):\n",
        "  features = []\n",
        "  chunk_deque = deque([padding_token for _ in range(feature_len)], maxlen=feature_len)\n",
        "\n",
        "  for i in arr:\n",
        "    chunk_deque.append(i)\n",
        "    features.append(list(chunk_deque))\n",
        "\n",
        "  if return_tf_datasets:\n",
        "    return tf.data.Dataset.from_tensor_slices(features).batch(4)\n",
        "\n",
        "  return features\n",
        "\n",
        "f, l = chunk(text_tokenized[-1], return_tf_datasets=True)\n",
        "# f, l\n",
        "# f, l = chunk(text_tokenized[-1])\n"
      ],
      "metadata": {
        "id": "YTzKMgBfRT3W"
      },
      "execution_count": 8,
      "outputs": []
    },
    {
      "cell_type": "code",
      "source": [
        "def train_on_batch_datasets(model, features, epochs=1):\n",
        "  optimizer = tf.keras.optimizers.Adam(learning_rate=0.005) ## this is high for testing purposes! change\n",
        "  loss = tf.keras.losses.SparseCategoricalCrossentropy(from_logits=True)\n",
        "  for epoch in range(epochs):\n",
        "    counter = 0\n",
        "    for batch_features in features:\n",
        "      with tf.GradientTape() as tape:\n",
        "        loss_value = loss(features, model(batch_features)['logits'])\n",
        "        # print(loss_value)\n",
        "\n",
        "      grads = tape.gradient(loss_value, model.trainable_variables)\n",
        "      # print(grads)\n",
        "      optimizer.apply_gradients(zip(grads, model.trainable_variables))\n",
        "      counter += 1\n",
        "      if counter % 5 == 0:\n",
        "        print(f'Step: {counter}   Loss: {loss_value}')\n",
        "\n",
        "  return model\n",
        "\n"
      ],
      "metadata": {
        "id": "An9CIeNCUDdA"
      },
      "execution_count": 9,
      "outputs": []
    },
    {
      "cell_type": "code",
      "source": [
        "while True:\n",
        "  try:\n",
        "    model = TFAutoModelForCausalLM.from_pretrained(model_name)\n",
        "    break\n",
        "  except:\n",
        "    continue"
      ],
      "metadata": {
        "colab": {
          "base_uri": "https://localhost:8080/"
        },
        "id": "HpbJwmjBaHuy",
        "outputId": "1cb20f86-9589-4d73-a69b-6bb2930b44d0"
      },
      "execution_count": 39,
      "outputs": [
        {
          "output_type": "stream",
          "name": "stderr",
          "text": [
            "All model checkpoint layers were used when initializing TFOPTForCausalLM.\n",
            "\n",
            "All the layers of TFOPTForCausalLM were initialized from the model checkpoint at facebook/opt-125m.\n",
            "If your task is similar to the task the model of the checkpoint was trained on, you can already use TFOPTForCausalLM for predictions without further training.\n"
          ]
        }
      ]
    },
    {
      "cell_type": "code",
      "source": [
        "## benchmarking\n",
        "text_prompt = \"Anarchism is a political philosophy and movement that is skeptical\"\n",
        "text_tokenized = tokenizer.encode(text_prompt, return_tensors=\"tf\")\n",
        "output = model.generate(text_tokenized, do_sample=True, max_length=100)\n",
        "output_text = tokenizer.decode(output[0], skip_special_tokens=True)\n",
        "\n",
        "output_text"
      ],
      "metadata": {
        "colab": {
          "base_uri": "https://localhost:8080/",
          "height": 70
        },
        "id": "zmnzk1RBaWOq",
        "outputId": "2deb21f9-8af1-47df-ca39-38ebebbd0b3d"
      },
      "execution_count": 12,
      "outputs": [
        {
          "output_type": "execute_result",
          "data": {
            "text/plain": [
              "'Anarchism is a political philosophy and movement that is skeptical of the authority of the church in its own way and thus seeks to establish an ideology that embraces the concept of man as its leader and should be understood as not only about what is right, but also how it has managed to become the most effective political organization in the United States.\\n\\nIn 1843, the first American Civil War was fought in the South. In the aftermath, the American Revolution was also fought in the South because'"
            ],
            "application/vnd.google.colaboratory.intrinsic+json": {
              "type": "string"
            }
          },
          "metadata": {},
          "execution_count": 12
        }
      ]
    },
    {
      "cell_type": "code",
      "source": [
        "## training\n",
        "model = train_on_batch_datasets(model, f, l, epochs=25)"
      ],
      "metadata": {
        "colab": {
          "base_uri": "https://localhost:8080/"
        },
        "id": "KtfMnDTwa8bu",
        "outputId": "e1b4ed02-ce01-4954-ebaf-f40fe28bece1"
      },
      "execution_count": 14,
      "outputs": [
        {
          "output_type": "stream",
          "name": "stdout",
          "text": [
            "Step: 5   Loss: 4.597414016723633\n",
            "Step: 10   Loss: 4.135599136352539\n",
            "Step: 15   Loss: 5.197532653808594\n",
            "Step: 20   Loss: 4.825636863708496\n",
            "Step: 25   Loss: 6.162888526916504\n",
            "Step: 30   Loss: 5.2282562255859375\n",
            "Step: 35   Loss: 5.071022987365723\n",
            "Step: 40   Loss: 4.711303234100342\n",
            "Step: 45   Loss: 4.263737201690674\n",
            "Step: 50   Loss: 5.433650970458984\n",
            "Step: 55   Loss: 5.973588943481445\n",
            "Step: 60   Loss: 5.200301170349121\n",
            "Step: 5   Loss: 4.386838912963867\n",
            "Step: 10   Loss: 4.193190097808838\n",
            "Step: 15   Loss: 5.619240760803223\n",
            "Step: 20   Loss: 4.913490295410156\n",
            "Step: 25   Loss: 5.725854873657227\n",
            "Step: 30   Loss: 4.705273628234863\n",
            "Step: 35   Loss: 4.174762725830078\n",
            "Step: 40   Loss: 3.961120128631592\n",
            "Step: 45   Loss: 3.8025498390197754\n",
            "Step: 50   Loss: 4.760210037231445\n",
            "Step: 55   Loss: 5.013979434967041\n",
            "Step: 60   Loss: 4.495548725128174\n",
            "Step: 5   Loss: 4.419894218444824\n",
            "Step: 10   Loss: 4.55423641204834\n",
            "Step: 15   Loss: 5.069760799407959\n",
            "Step: 20   Loss: 4.72958517074585\n",
            "Step: 25   Loss: 6.455133438110352\n",
            "Step: 30   Loss: 4.585119724273682\n",
            "Step: 35   Loss: 4.546942234039307\n",
            "Step: 40   Loss: 3.9961764812469482\n",
            "Step: 45   Loss: 3.782649517059326\n",
            "Step: 50   Loss: 5.166590690612793\n",
            "Step: 55   Loss: 4.96946907043457\n",
            "Step: 60   Loss: 4.6074676513671875\n",
            "Step: 5   Loss: 4.462766170501709\n",
            "Step: 10   Loss: 4.305960655212402\n",
            "Step: 15   Loss: 5.00731086730957\n",
            "Step: 20   Loss: 4.490835189819336\n",
            "Step: 25   Loss: 5.723743438720703\n",
            "Step: 30   Loss: 4.910987854003906\n",
            "Step: 35   Loss: 4.916642665863037\n",
            "Step: 40   Loss: 4.245491027832031\n",
            "Step: 45   Loss: 3.9012458324432373\n",
            "Step: 50   Loss: 4.492124080657959\n",
            "Step: 55   Loss: 5.818833827972412\n",
            "Step: 60   Loss: 4.548770904541016\n",
            "Step: 5   Loss: 6.06169319152832\n",
            "Step: 10   Loss: 4.877971649169922\n",
            "Step: 15   Loss: 5.015868186950684\n",
            "Step: 20   Loss: 4.353957176208496\n",
            "Step: 25   Loss: 4.525134563446045\n",
            "Step: 30   Loss: 4.857756614685059\n",
            "Step: 35   Loss: 5.302339553833008\n",
            "Step: 40   Loss: 4.035656929016113\n",
            "Step: 45   Loss: 4.067574977874756\n",
            "Step: 50   Loss: 5.008012771606445\n",
            "Step: 55   Loss: 4.554394721984863\n",
            "Step: 60   Loss: 4.957440376281738\n",
            "Step: 5   Loss: 4.46791934967041\n",
            "Step: 10   Loss: 4.307856559753418\n",
            "Step: 15   Loss: 5.421468734741211\n",
            "Step: 20   Loss: 4.801629066467285\n",
            "Step: 25   Loss: 5.362920761108398\n",
            "Step: 30   Loss: 4.231569290161133\n",
            "Step: 35   Loss: 4.31764030456543\n",
            "Step: 40   Loss: 4.203558444976807\n",
            "Step: 45   Loss: 3.8734779357910156\n",
            "Step: 50   Loss: 5.048368453979492\n",
            "Step: 55   Loss: 4.4604597091674805\n",
            "Step: 60   Loss: 4.537632942199707\n",
            "Step: 5   Loss: 4.65977144241333\n",
            "Step: 10   Loss: 3.6998605728149414\n",
            "Step: 15   Loss: 4.932367324829102\n",
            "Step: 20   Loss: 4.860541820526123\n",
            "Step: 25   Loss: 6.224920272827148\n",
            "Step: 30   Loss: 4.75395393371582\n",
            "Step: 35   Loss: 4.454745769500732\n",
            "Step: 40   Loss: 4.29929780960083\n",
            "Step: 45   Loss: 3.9681103229522705\n",
            "Step: 50   Loss: 5.378227233886719\n",
            "Step: 55   Loss: 6.745153427124023\n",
            "Step: 60   Loss: 5.165140151977539\n",
            "Step: 5   Loss: 4.606524467468262\n",
            "Step: 10   Loss: 4.4770002365112305\n",
            "Step: 15   Loss: 4.7042341232299805\n",
            "Step: 20   Loss: 4.308823108673096\n",
            "Step: 25   Loss: 5.543850898742676\n",
            "Step: 30   Loss: 4.632091522216797\n",
            "Step: 35   Loss: 6.320521831512451\n",
            "Step: 40   Loss: 5.891237258911133\n",
            "Step: 45   Loss: 4.298262596130371\n",
            "Step: 50   Loss: 4.842719554901123\n",
            "Step: 55   Loss: 5.814198017120361\n",
            "Step: 60   Loss: 5.164031982421875\n",
            "Step: 5   Loss: 4.660914897918701\n",
            "Step: 10   Loss: 4.331572532653809\n",
            "Step: 15   Loss: 5.084341049194336\n",
            "Step: 20   Loss: 4.829677581787109\n",
            "Step: 25   Loss: 5.922203063964844\n",
            "Step: 30   Loss: 4.721109390258789\n",
            "Step: 35   Loss: 5.39599609375\n",
            "Step: 40   Loss: 5.124244689941406\n",
            "Step: 45   Loss: 4.423051834106445\n",
            "Step: 50   Loss: 5.442838668823242\n",
            "Step: 55   Loss: 5.978961944580078\n",
            "Step: 60   Loss: 4.800217628479004\n",
            "Step: 5   Loss: 4.64017391204834\n",
            "Step: 10   Loss: 4.464508056640625\n",
            "Step: 15   Loss: 5.281160354614258\n",
            "Step: 20   Loss: 5.076442718505859\n",
            "Step: 25   Loss: 6.284723281860352\n",
            "Step: 30   Loss: 4.678928852081299\n",
            "Step: 35   Loss: 5.106431007385254\n",
            "Step: 40   Loss: 4.502007484436035\n",
            "Step: 45   Loss: 4.196169376373291\n",
            "Step: 50   Loss: 5.203281879425049\n",
            "Step: 55   Loss: 5.919853210449219\n",
            "Step: 60   Loss: 5.058385848999023\n",
            "Step: 5   Loss: 4.710622310638428\n",
            "Step: 10   Loss: 4.41624641418457\n",
            "Step: 15   Loss: 5.102807998657227\n",
            "Step: 20   Loss: 4.7313947677612305\n",
            "Step: 25   Loss: 5.815392017364502\n",
            "Step: 30   Loss: 4.785435199737549\n",
            "Step: 35   Loss: 5.0965681076049805\n",
            "Step: 40   Loss: 4.489265441894531\n",
            "Step: 45   Loss: 4.272552013397217\n",
            "Step: 50   Loss: 5.243027210235596\n",
            "Step: 55   Loss: 5.544188499450684\n",
            "Step: 60   Loss: 4.729938507080078\n",
            "Step: 5   Loss: 4.613274097442627\n",
            "Step: 10   Loss: 4.401531219482422\n",
            "Step: 15   Loss: 5.250375747680664\n",
            "Step: 20   Loss: 4.99616813659668\n",
            "Step: 25   Loss: 5.959636688232422\n",
            "Step: 30   Loss: 4.8086347579956055\n",
            "Step: 35   Loss: 5.00260066986084\n",
            "Step: 40   Loss: 4.224030017852783\n",
            "Step: 45   Loss: 4.100683212280273\n",
            "Step: 50   Loss: 5.112324237823486\n",
            "Step: 55   Loss: 5.413783073425293\n",
            "Step: 60   Loss: 4.6618242263793945\n",
            "Step: 5   Loss: 4.627231597900391\n",
            "Step: 10   Loss: 4.407541275024414\n",
            "Step: 15   Loss: 5.222049713134766\n",
            "Step: 20   Loss: 4.953574180603027\n",
            "Step: 25   Loss: 5.747037410736084\n",
            "Step: 30   Loss: 4.612813949584961\n",
            "Step: 35   Loss: 4.861240386962891\n",
            "Step: 40   Loss: 4.170471668243408\n",
            "Step: 45   Loss: 4.159726142883301\n",
            "Step: 50   Loss: 5.197197914123535\n",
            "Step: 55   Loss: 5.331337928771973\n",
            "Step: 60   Loss: 4.378690719604492\n",
            "Step: 5   Loss: 4.55435848236084\n",
            "Step: 10   Loss: 4.250542640686035\n",
            "Step: 15   Loss: 5.095330238342285\n",
            "Step: 20   Loss: 4.909488201141357\n",
            "Step: 25   Loss: 5.741257667541504\n",
            "Step: 30   Loss: 4.650867462158203\n",
            "Step: 35   Loss: 4.9180450439453125\n",
            "Step: 40   Loss: 4.188804626464844\n",
            "Step: 45   Loss: 4.157347679138184\n",
            "Step: 50   Loss: 5.058546543121338\n",
            "Step: 55   Loss: 5.1173906326293945\n",
            "Step: 60   Loss: 4.268392562866211\n",
            "Step: 5   Loss: 4.547830104827881\n",
            "Step: 10   Loss: 4.251110553741455\n",
            "Step: 15   Loss: 5.129741668701172\n",
            "Step: 20   Loss: 5.01408576965332\n",
            "Step: 25   Loss: 5.767602920532227\n",
            "Step: 30   Loss: 4.510286331176758\n",
            "Step: 35   Loss: 4.804450988769531\n",
            "Step: 40   Loss: 4.18567419052124\n",
            "Step: 45   Loss: 4.085102081298828\n",
            "Step: 50   Loss: 4.986670017242432\n",
            "Step: 55   Loss: 5.0848283767700195\n",
            "Step: 60   Loss: 4.223320484161377\n",
            "Step: 5   Loss: 4.672555923461914\n",
            "Step: 10   Loss: 4.287397861480713\n",
            "Step: 15   Loss: 5.0550456047058105\n",
            "Step: 20   Loss: 4.843294143676758\n",
            "Step: 25   Loss: 5.635830879211426\n",
            "Step: 30   Loss: 4.464372634887695\n",
            "Step: 35   Loss: 4.847067356109619\n",
            "Step: 40   Loss: 4.331785678863525\n",
            "Step: 45   Loss: 4.141383171081543\n",
            "Step: 50   Loss: 5.009328842163086\n",
            "Step: 55   Loss: 5.030553340911865\n",
            "Step: 60   Loss: 4.110757827758789\n",
            "Step: 5   Loss: 4.628396034240723\n",
            "Step: 10   Loss: 4.217866897583008\n",
            "Step: 15   Loss: 5.049134254455566\n",
            "Step: 20   Loss: 4.87411642074585\n",
            "Step: 25   Loss: 5.792303085327148\n",
            "Step: 30   Loss: 4.4879302978515625\n",
            "Step: 35   Loss: 4.834941387176514\n",
            "Step: 40   Loss: 4.282607078552246\n",
            "Step: 45   Loss: 4.121673107147217\n",
            "Step: 50   Loss: 4.968351364135742\n",
            "Step: 55   Loss: 5.009756088256836\n",
            "Step: 60   Loss: 4.159708499908447\n",
            "Step: 5   Loss: 4.72274112701416\n",
            "Step: 10   Loss: 4.322164535522461\n",
            "Step: 15   Loss: 5.078361511230469\n",
            "Step: 20   Loss: 4.837515830993652\n",
            "Step: 25   Loss: 5.725025177001953\n",
            "Step: 30   Loss: 4.371424198150635\n",
            "Step: 35   Loss: 4.804706573486328\n",
            "Step: 40   Loss: 4.292653560638428\n",
            "Step: 45   Loss: 4.1809797286987305\n",
            "Step: 50   Loss: 5.035938262939453\n",
            "Step: 55   Loss: 5.085202693939209\n",
            "Step: 60   Loss: 4.266114711761475\n",
            "Step: 5   Loss: 4.7208099365234375\n",
            "Step: 10   Loss: 4.345894813537598\n",
            "Step: 15   Loss: 5.020055294036865\n",
            "Step: 20   Loss: 4.764347076416016\n",
            "Step: 25   Loss: 5.7388787269592285\n",
            "Step: 30   Loss: 4.463925838470459\n",
            "Step: 35   Loss: 4.915550231933594\n",
            "Step: 40   Loss: 4.362271308898926\n",
            "Step: 45   Loss: 4.1243181228637695\n",
            "Step: 50   Loss: 4.9868316650390625\n",
            "Step: 55   Loss: 5.050856590270996\n",
            "Step: 60   Loss: 4.212017059326172\n",
            "Step: 5   Loss: 4.66066837310791\n",
            "Step: 10   Loss: 4.418759346008301\n",
            "Step: 15   Loss: 5.132168292999268\n",
            "Step: 20   Loss: 4.889531135559082\n",
            "Step: 25   Loss: 5.892674446105957\n",
            "Step: 30   Loss: 4.494382858276367\n",
            "Step: 35   Loss: 4.714820861816406\n",
            "Step: 40   Loss: 4.250026702880859\n",
            "Step: 45   Loss: 4.031357765197754\n",
            "Step: 50   Loss: 5.020644187927246\n",
            "Step: 55   Loss: 5.21341609954834\n",
            "Step: 60   Loss: 4.431647300720215\n",
            "Step: 5   Loss: 4.72206974029541\n",
            "Step: 10   Loss: 4.382630348205566\n",
            "Step: 15   Loss: 4.992180824279785\n",
            "Step: 20   Loss: 4.662997245788574\n",
            "Step: 25   Loss: 5.63654899597168\n",
            "Step: 30   Loss: 4.5347371101379395\n",
            "Step: 35   Loss: 4.899600505828857\n",
            "Step: 40   Loss: 4.289920330047607\n",
            "Step: 45   Loss: 4.076895713806152\n",
            "Step: 50   Loss: 5.103647708892822\n",
            "Step: 55   Loss: 5.20390510559082\n",
            "Step: 60   Loss: 4.458942890167236\n",
            "Step: 5   Loss: 4.558517932891846\n",
            "Step: 10   Loss: 4.289884567260742\n",
            "Step: 15   Loss: 5.106866836547852\n",
            "Step: 20   Loss: 4.884805679321289\n",
            "Step: 25   Loss: 5.891535758972168\n",
            "Step: 30   Loss: 4.65252685546875\n",
            "Step: 35   Loss: 4.8843994140625\n",
            "Step: 40   Loss: 4.113229751586914\n",
            "Step: 45   Loss: 3.944861888885498\n",
            "Step: 50   Loss: 4.986961364746094\n",
            "Step: 55   Loss: 5.335939884185791\n",
            "Step: 60   Loss: 4.661904335021973\n",
            "Step: 5   Loss: 4.674314975738525\n",
            "Step: 10   Loss: 4.475503444671631\n",
            "Step: 15   Loss: 5.188968181610107\n",
            "Step: 20   Loss: 4.80954647064209\n",
            "Step: 25   Loss: 5.489567279815674\n",
            "Step: 30   Loss: 4.588016510009766\n",
            "Step: 35   Loss: 4.801882743835449\n",
            "Step: 40   Loss: 4.226381301879883\n",
            "Step: 45   Loss: 4.10487174987793\n",
            "Step: 50   Loss: 5.2434844970703125\n",
            "Step: 55   Loss: 5.3050856590271\n",
            "Step: 60   Loss: 4.319375038146973\n",
            "Step: 5   Loss: 4.471027374267578\n",
            "Step: 10   Loss: 4.184000015258789\n",
            "Step: 15   Loss: 5.194169044494629\n",
            "Step: 20   Loss: 4.944295883178711\n",
            "Step: 25   Loss: 5.963413715362549\n",
            "Step: 30   Loss: 4.852898597717285\n",
            "Step: 35   Loss: 5.003805160522461\n",
            "Step: 40   Loss: 4.2279372215271\n",
            "Step: 45   Loss: 3.9839043617248535\n",
            "Step: 50   Loss: 4.917649269104004\n",
            "Step: 55   Loss: 5.238592147827148\n",
            "Step: 60   Loss: 4.590248107910156\n",
            "Step: 5   Loss: 4.643935203552246\n",
            "Step: 10   Loss: 4.349440574645996\n",
            "Step: 15   Loss: 5.337801933288574\n",
            "Step: 20   Loss: 4.959330081939697\n",
            "Step: 25   Loss: 5.675032615661621\n",
            "Step: 30   Loss: 4.51017951965332\n",
            "Step: 35   Loss: 4.755768775939941\n",
            "Step: 40   Loss: 4.275362014770508\n",
            "Step: 45   Loss: 4.176329612731934\n",
            "Step: 50   Loss: 5.322656631469727\n",
            "Step: 55   Loss: 5.281386375427246\n",
            "Step: 60   Loss: 4.246099472045898\n"
          ]
        }
      ]
    },
    {
      "cell_type": "code",
      "source": [
        "## testing\n",
        "text_prompt = \"Anarchism is a political philosophy and movement that is \"\n",
        "text_tokenized = tokenizer.encode(text_prompt, return_tensors=\"tf\")\n",
        "output = model.generate(text_tokenized, do_sample=True, max_length=100)\n",
        "output_text = tokenizer.decode(output[0], skip_special_tokens=True)\n",
        "\n",
        "output_text"
      ],
      "metadata": {
        "colab": {
          "base_uri": "https://localhost:8080/",
          "height": 70
        },
        "id": "1eLxo5iobEB-",
        "outputId": "4fad380c-aca4-41c4-de44-be9761dde2ca"
      },
      "execution_count": 15,
      "outputs": [
        {
          "output_type": "execute_result",
          "data": {
            "text/plain": [
              "\"Anarchism is a political philosophy and movement that is  movement of several this revolutions the of. formed world for most the this the the in significant anarchism several authorityists the movement Anarch the the the Anarch had anarchist have movement notably in the emancipation for in, in anarchism mostth anarchist several. revolutionsists, the in the most the this for,, part of all in of in authority, Comm Paris most century world all taken. anarchism role have end the, Paris' world of,.\""
            ],
            "application/vnd.google.colaboratory.intrinsic+json": {
              "type": "string"
            }
          },
          "metadata": {},
          "execution_count": 15
        }
      ]
    },
    {
      "cell_type": "code",
      "source": [
        "tokenizer.encode('marked')"
      ],
      "metadata": {
        "colab": {
          "base_uri": "https://localhost:8080/"
        },
        "id": "O9doKHAIiLuq",
        "outputId": "62c18be1-d951-4be2-95d3-00fa8bcf59d3"
      },
      "execution_count": 46,
      "outputs": [
        {
          "output_type": "execute_result",
          "data": {
            "text/plain": [
              "[2, 18584]"
            ]
          },
          "metadata": {},
          "execution_count": 46
        }
      ]
    },
    {
      "cell_type": "markdown",
      "source": [
        "in the logits is it constantly predicting beginning of sentence tokens?"
      ],
      "metadata": {
        "id": "6bkcZQ8skoik"
      }
    },
    {
      "cell_type": "code",
      "source": [
        "x = tokenizer.encode(\"Anarchism is a political philosophy and movement that is sceptical of all just\", return_tensors='tf')[:16]\n",
        "y = tokenizer.encode(\"Anarchism is a political philosophy and movement that is sceptical of all just\")[-1]\n",
        "\n",
        "preds = model.predict(x)"
      ],
      "metadata": {
        "colab": {
          "base_uri": "https://localhost:8080/"
        },
        "id": "ZvMEgmVkkWHI",
        "outputId": "2f4696ea-23e7-4214-90ee-e6363f122f09"
      },
      "execution_count": 40,
      "outputs": [
        {
          "output_type": "stream",
          "name": "stdout",
          "text": [
            "1/1 [==============================] - 12s 12s/step\n"
          ]
        }
      ]
    },
    {
      "cell_type": "code",
      "source": [
        "preds['logits'].shape"
      ],
      "metadata": {
        "colab": {
          "base_uri": "https://localhost:8080/"
        },
        "id": "4_uE0xkW0ja5",
        "outputId": "c262f03f-c96e-4831-b1c0-0197751d1b71"
      },
      "execution_count": 41,
      "outputs": [
        {
          "output_type": "execute_result",
          "data": {
            "text/plain": [
              "(1, 17, 50272)"
            ]
          },
          "metadata": {},
          "execution_count": 41
        }
      ]
    },
    {
      "cell_type": "code",
      "source": [
        "x_tokens = [tokenizer.decode(x[0][i]) for i in range(17)]\n",
        "preds_text = [tokenizer.decode(np.argmax(preds['logits'][0][i])) for i in range(17)]"
      ],
      "metadata": {
        "id": "kvs26_g80l6s"
      },
      "execution_count": 49,
      "outputs": []
    },
    {
      "cell_type": "code",
      "source": [
        "loss_calc = tf.keras.losses.SparseCategoricalCrossentropy(from_logits=True)"
      ],
      "metadata": {
        "id": "c1bYEaNh21sh"
      },
      "execution_count": 52,
      "outputs": []
    },
    {
      "cell_type": "code",
      "source": [
        "loss_calc(x, preds['logits'])"
      ],
      "metadata": {
        "colab": {
          "base_uri": "https://localhost:8080/"
        },
        "id": "ci7Ik3i525pn",
        "outputId": "2358f693-9c4a-4475-8859-d17ce9bcf952"
      },
      "execution_count": 53,
      "outputs": [
        {
          "output_type": "execute_result",
          "data": {
            "text/plain": [
              "<tf.Tensor: shape=(), dtype=float32, numpy=8.44039>"
            ]
          },
          "metadata": {},
          "execution_count": 53
        }
      ]
    },
    {
      "cell_type": "code",
      "source": [
        "x_tokens"
      ],
      "metadata": {
        "colab": {
          "base_uri": "https://localhost:8080/"
        },
        "id": "AhYwqZ_82WOe",
        "outputId": "1956644f-acf9-4e43-a461-92c1d8a28e52"
      },
      "execution_count": 51,
      "outputs": [
        {
          "output_type": "execute_result",
          "data": {
            "text/plain": [
              "['</s>',\n",
              " 'An',\n",
              " 'arch',\n",
              " 'ism',\n",
              " ' is',\n",
              " ' a',\n",
              " ' political',\n",
              " ' philosophy',\n",
              " ' and',\n",
              " ' movement',\n",
              " ' that',\n",
              " ' is',\n",
              " ' scept',\n",
              " 'ical',\n",
              " ' of',\n",
              " ' all',\n",
              " ' just']"
            ]
          },
          "metadata": {},
          "execution_count": 51
        }
      ]
    },
    {
      "cell_type": "code",
      "source": [
        "preds_text"
      ],
      "metadata": {
        "colab": {
          "base_uri": "https://localhost:8080/"
        },
        "id": "V_Gy_GM01F7e",
        "outputId": "3e18837d-a449-4c9c-dee2-daf077082a85"
      },
      "execution_count": 44,
      "outputs": [
        {
          "output_type": "execute_result",
          "data": {
            "text/plain": [
              "['I',\n",
              " 'ime',\n",
              " 'o',\n",
              " ' is',\n",
              " ' a',\n",
              " ' form',\n",
              " ' ideology',\n",
              " ' that',\n",
              " ' philosophy',\n",
              " ' that',\n",
              " ' seeks',\n",
              " ' based',\n",
              " 'ical',\n",
              " ' of',\n",
              " ' the',\n",
              " ' forms',\n",
              " 'ifications']"
            ]
          },
          "metadata": {},
          "execution_count": 44
        }
      ]
    },
    {
      "cell_type": "code",
      "source": [
        "x"
      ],
      "metadata": {
        "colab": {
          "base_uri": "https://localhost:8080/"
        },
        "id": "NeMRmRKI2H8Q",
        "outputId": "c26fae56-993a-40b1-d38c-715bdbb43818"
      },
      "execution_count": 45,
      "outputs": [
        {
          "output_type": "execute_result",
          "data": {
            "text/plain": [
              "<tf.Tensor: shape=(1, 17), dtype=int32, numpy=\n",
              "array([[    2,  4688, 13161,  1809,    16,    10,   559, 10561,     8,\n",
              "         2079,    14,    16, 22865,  3569,     9,    70,    95]],\n",
              "      dtype=int32)>"
            ]
          },
          "metadata": {},
          "execution_count": 45
        }
      ]
    },
    {
      "cell_type": "code",
      "source": [],
      "metadata": {
        "id": "oPzZmmMN2JhZ"
      },
      "execution_count": null,
      "outputs": []
    }
  ]
}